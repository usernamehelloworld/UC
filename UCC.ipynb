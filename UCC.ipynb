{
  "nbformat": 4,
  "nbformat_minor": 0,
  "metadata": {
    "colab": {
      "provenance": [],
      "authorship_tag": "ABX9TyPP746qZyH+blwBUIcxlB7R",
      "include_colab_link": true
    },
    "kernelspec": {
      "name": "python3",
      "display_name": "Python 3"
    },
    "language_info": {
      "name": "python"
    }
  },
  "cells": [
    {
      "cell_type": "markdown",
      "metadata": {
        "id": "view-in-github",
        "colab_type": "text"
      },
      "source": [
        "<a href=\"https://colab.research.google.com/github/usernamehelloworld/UC/blob/main/UCC.ipynb\" target=\"_parent\"><img src=\"https://colab.research.google.com/assets/colab-badge.svg\" alt=\"Open In Colab\"/></a>"
      ]
    },
    {
      "cell_type": "code",
      "execution_count": null,
      "metadata": {
        "id": "Scr3o187_h6U"
      },
      "outputs": [],
      "source": [
        "# Cell 1: Install xterm and load extension (Run once per session)\n",
        "# Purpose: Installs the necessary library to run terminal sessions inside Colab.\n",
        "print(\"Installing colab-xterm...\")\n",
        "!pip install colab-xterm --quiet\n",
        "%load_ext colabxterm\n",
        "print(\"Colab Xterm ready.\")"
      ]
    },
    {
      "cell_type": "code",
      "source": [
        "# Cell 2: Download Config/Setup Files from GitHub (Run once per session)\n",
        "# Purpose: Downloads the Modelfile and the setup script from your GitHub repo.\n",
        "#          Make sure the URL points to the raw content of your repository.\n",
        "\n",
        "# Replace with the correct RAW base URL for your repo and branch\n",
        "GITHUB_REPO_URL = \"https://colab.research.google.com/github/usernamehelloworld/UC/blob/main/UCC.ipynb\"\n",
        "\n",
        "MODELFILE_NAME = \"IncreaseContext.Modelfile\"\n",
        "SETUP_SCRIPT_NAME = \"setup_ollama.sh\"\n",
        "\n",
        "print(f\"Downloading {MODELFILE_NAME} from {GITHUB_REPO_URL}...\")\n",
        "!curl -s -L -O {GITHUB_REPO_URL}{MODELFILE_NAME}\n",
        "\n",
        "print(f\"Downloading {SETUP_SCRIPT_NAME} from {GITHUB_REPO_URL}...\")\n",
        "!curl -s -L -O {GITHUB_REPO_URL}{SETUP_SCRIPT_NAME}\n",
        "\n",
        "print(f\"Making {SETUP_SCRIPT_NAME} executable...\")\n",
        "!chmod +x {SETUP_SCRIPT_NAME}\n",
        "\n",
        "# Check if files were downloaded\n",
        "print(\"\\nChecking downloaded files:\")\n",
        "!ls -l {MODELFILE_NAME} {SETUP_SCRIPT_NAME}\n",
        "\n",
        "print(f\"\\nFiles downloaded. Ready for Manual Setup in %xterm using ./{SETUP_SCRIPT_NAME}\")"
      ],
      "metadata": {
        "id": "mQkshhI6_lfu"
      },
      "execution_count": null,
      "outputs": []
    },
    {
      "cell_type": "code",
      "source": [
        "# Cell 3: Open First %xterm for Manual Setup (Run once per session)\n",
        "# Purpose: Opens the first terminal window where you will run the setup script.\n",
        "#          The Ollama server will run associated with this terminal.\n",
        "print(\"----------------------------------------------------------------------\")\n",
        "print(\">>> Action Needed <<<\")\n",
        "print(\"1. A terminal window (xterm) will open below.\")\n",
        "print(f\"2. Click inside the xterm window and type the command: ./setup_ollama.sh\")\n",
        "print(\"3. Press Enter to run the script.\")\n",
        "print(\"4. Wait for the script to complete.\")\n",
        "print(\"5. IMPORTANT: Leave this xterm window OPEN to keep the server running.\")\n",
        "print(\"----------------------------------------------------------------------\")\n",
        "%xterm"
      ],
      "metadata": {
        "id": "mLIEaeS-_nhs"
      },
      "execution_count": null,
      "outputs": []
    },
    {
      "cell_type": "code",
      "source": [
        "# Cell 4: Open Second %xterm to Run Model (Run when needed)\n",
        "# Purpose: Opens a second terminal window used to interact with the Ollama model.\n",
        "\n",
        "# Determine the custom model tag name (should match what's in setup_ollama.sh)\n",
        "# Assuming the tag is 'artifish/llama3.2-uncensored-8k' based on previous steps\n",
        "CUSTOM_MODEL_TAG = \"artifish/llama3.2-uncensored-8k\"\n",
        "\n",
        "print(\"----------------------------------------------------------------------\")\n",
        "print(\">>> Action Needed <<<\")\n",
        "print(\"1. A *second* terminal window (xterm) will open below.\")\n",
        "print(\"2. Click inside this second xterm window.\")\n",
        "print(f\"3. Type the command to run your model: ollama run {CUSTOM_MODEL_TAG}\")\n",
        "print(\"4. Press Enter to start interacting with the model.\")\n",
        "print(\"----------------------------------------------------------------------\")\n",
        "%xterm"
      ],
      "metadata": {
        "id": "ne7jqp4j_tsn"
      },
      "execution_count": null,
      "outputs": []
    }
  ]
}
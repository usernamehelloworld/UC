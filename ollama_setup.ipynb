# Cell 1: Install xterm and load extension (Run once per session)
!pip install colab-xterm --quiet
%load_ext colabxterm
print("Colab Xterm ready.")

# Cell 2: Download Config/Setup Files from GitHub (Run once per session)
# Replace YOUR_USERNAME and YOUR_REPO with your actual GitHub details
GITHUB_REPO_URL = "https://raw.githubusercontent.com/YOUR_USERNAME/YOUR_REPO/main/" # Note the trailing slash

print("Downloading Modelfile...")
!curl -s -O {GITHUB_REPO_URL}IncreaseContext.Modelfile

print("Downloading setup script...")
!curl -s -O {GITHUB_REPO_URL}setup_ollama.sh

# Make the script executable
!chmod +x setup_ollama.sh

print("Files downloaded. Ready for Manual Setup in %xterm.")

# Cell 3: Open First %xterm for Manual Setup (Run once per session)
print("--- Open this xterm and run './setup_ollama.sh' inside it ---")
%xterm

# Cell 4: Open Second %xterm to Run Model (Run when needed)
print("--- Open this second xterm and run your model (e.g., ollama run artifish/llama3.2-uncensored-8k) ---")
%xterm
